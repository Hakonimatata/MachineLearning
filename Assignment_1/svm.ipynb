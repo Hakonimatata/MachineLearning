{
 "cells": [
  {
   "cell_type": "markdown",
   "metadata": {},
   "source": [
    "## Support Vector Machine"
   ]
  },
  {
   "cell_type": "markdown",
   "metadata": {},
   "source": [
    "### Setup"
   ]
  },
  {
   "cell_type": "code",
   "execution_count": 1,
   "metadata": {},
   "outputs": [],
   "source": [
    "# Python ≥3.5 is required\n",
    "import sys\n",
    "assert sys.version_info >= (3, 5)\n",
    "# Scikit-Learn ≥0.20 is required\n",
    "import sklearn\n",
    "assert sklearn.__version__ >= \"0.20\"\n",
    "\n",
    "# Common imports\n",
    "import numpy as np\n",
    "import os\n",
    "\n",
    "# To plot pretty figures\n",
    "%matplotlib inline\n",
    "import matplotlib as mpl\n",
    "import matplotlib.pyplot as plt\n",
    "mpl.rc('axes', labelsize=14)\n",
    "mpl.rc('xtick', labelsize=12)\n",
    "mpl.rc('ytick', labelsize=12)\n",
    "\n",
    "# Where to save the figures\n",
    "PROJECT_ROOT_DIR = \".\"\n",
    "IMAGES_PATH = os.path.join(PROJECT_ROOT_DIR, \"images\")\n",
    "os.makedirs(IMAGES_PATH, exist_ok=True)\n",
    "\n",
    "def save_fig(fig_id, tight_layout=True, fig_extension=\"png\", resolution=300):\n",
    "    path = os.path.join(IMAGES_PATH, fig_id + \".\" + fig_extension)\n",
    "    print(\"Saving figure\", fig_id)\n",
    "    if tight_layout:\n",
    "        plt.tight_layout()\n",
    "    plt.savefig(path, format=fig_extension, dpi=resolution)"
   ]
  },
  {
   "cell_type": "markdown",
   "metadata": {},
   "source": [
    "### Read Data"
   ]
  },
  {
   "cell_type": "code",
   "execution_count": 2,
   "metadata": {},
   "outputs": [
    {
     "data": {
      "text/html": [
       "<div>\n",
       "<style scoped>\n",
       "    .dataframe tbody tr th:only-of-type {\n",
       "        vertical-align: middle;\n",
       "    }\n",
       "\n",
       "    .dataframe tbody tr th {\n",
       "        vertical-align: top;\n",
       "    }\n",
       "\n",
       "    .dataframe thead th {\n",
       "        text-align: right;\n",
       "    }\n",
       "</style>\n",
       "<table border=\"1\" class=\"dataframe\">\n",
       "  <thead>\n",
       "    <tr style=\"text-align: right;\">\n",
       "      <th></th>\n",
       "      <th>id</th>\n",
       "      <th>X_Minimum</th>\n",
       "      <th>X_Maximum</th>\n",
       "      <th>Y_Minimum</th>\n",
       "      <th>Y_Maximum</th>\n",
       "      <th>Pixels_Areas</th>\n",
       "      <th>X_Perimeter</th>\n",
       "      <th>Y_Perimeter</th>\n",
       "      <th>Sum_of_Luminosity</th>\n",
       "      <th>Minimum_of_Luminosity</th>\n",
       "      <th>...</th>\n",
       "      <th>Orientation_Index</th>\n",
       "      <th>Luminosity_Index</th>\n",
       "      <th>SigmoidOfAreas</th>\n",
       "      <th>Pastry</th>\n",
       "      <th>Z_Scratch</th>\n",
       "      <th>K_Scatch</th>\n",
       "      <th>Stains</th>\n",
       "      <th>Dirtiness</th>\n",
       "      <th>Bumps</th>\n",
       "      <th>Other_Faults</th>\n",
       "    </tr>\n",
       "  </thead>\n",
       "  <tbody>\n",
       "    <tr>\n",
       "      <th>0</th>\n",
       "      <td>0</td>\n",
       "      <td>584</td>\n",
       "      <td>590</td>\n",
       "      <td>909972</td>\n",
       "      <td>909977</td>\n",
       "      <td>16</td>\n",
       "      <td>8</td>\n",
       "      <td>5</td>\n",
       "      <td>2274</td>\n",
       "      <td>113</td>\n",
       "      <td>...</td>\n",
       "      <td>-0.5000</td>\n",
       "      <td>-0.0104</td>\n",
       "      <td>0.1417</td>\n",
       "      <td>0</td>\n",
       "      <td>0</td>\n",
       "      <td>0</td>\n",
       "      <td>1</td>\n",
       "      <td>0</td>\n",
       "      <td>0</td>\n",
       "      <td>0</td>\n",
       "    </tr>\n",
       "    <tr>\n",
       "      <th>1</th>\n",
       "      <td>1</td>\n",
       "      <td>808</td>\n",
       "      <td>816</td>\n",
       "      <td>728350</td>\n",
       "      <td>728372</td>\n",
       "      <td>433</td>\n",
       "      <td>20</td>\n",
       "      <td>54</td>\n",
       "      <td>44478</td>\n",
       "      <td>70</td>\n",
       "      <td>...</td>\n",
       "      <td>0.7419</td>\n",
       "      <td>-0.2997</td>\n",
       "      <td>0.9491</td>\n",
       "      <td>0</td>\n",
       "      <td>0</td>\n",
       "      <td>0</td>\n",
       "      <td>0</td>\n",
       "      <td>0</td>\n",
       "      <td>0</td>\n",
       "      <td>1</td>\n",
       "    </tr>\n",
       "    <tr>\n",
       "      <th>2</th>\n",
       "      <td>2</td>\n",
       "      <td>39</td>\n",
       "      <td>192</td>\n",
       "      <td>2212076</td>\n",
       "      <td>2212144</td>\n",
       "      <td>11388</td>\n",
       "      <td>705</td>\n",
       "      <td>420</td>\n",
       "      <td>1311391</td>\n",
       "      <td>29</td>\n",
       "      <td>...</td>\n",
       "      <td>-0.0105</td>\n",
       "      <td>-0.0944</td>\n",
       "      <td>1.0000</td>\n",
       "      <td>0</td>\n",
       "      <td>0</td>\n",
       "      <td>1</td>\n",
       "      <td>0</td>\n",
       "      <td>0</td>\n",
       "      <td>0</td>\n",
       "      <td>0</td>\n",
       "    </tr>\n",
       "    <tr>\n",
       "      <th>3</th>\n",
       "      <td>3</td>\n",
       "      <td>781</td>\n",
       "      <td>789</td>\n",
       "      <td>3353146</td>\n",
       "      <td>3353173</td>\n",
       "      <td>210</td>\n",
       "      <td>16</td>\n",
       "      <td>29</td>\n",
       "      <td>3202</td>\n",
       "      <td>114</td>\n",
       "      <td>...</td>\n",
       "      <td>0.6667</td>\n",
       "      <td>-0.0402</td>\n",
       "      <td>0.4025</td>\n",
       "      <td>0</td>\n",
       "      <td>0</td>\n",
       "      <td>1</td>\n",
       "      <td>0</td>\n",
       "      <td>0</td>\n",
       "      <td>0</td>\n",
       "      <td>0</td>\n",
       "    </tr>\n",
       "    <tr>\n",
       "      <th>4</th>\n",
       "      <td>4</td>\n",
       "      <td>1540</td>\n",
       "      <td>1560</td>\n",
       "      <td>618457</td>\n",
       "      <td>618502</td>\n",
       "      <td>521</td>\n",
       "      <td>72</td>\n",
       "      <td>67</td>\n",
       "      <td>48231</td>\n",
       "      <td>82</td>\n",
       "      <td>...</td>\n",
       "      <td>0.9158</td>\n",
       "      <td>-0.2455</td>\n",
       "      <td>0.9998</td>\n",
       "      <td>0</td>\n",
       "      <td>0</td>\n",
       "      <td>0</td>\n",
       "      <td>0</td>\n",
       "      <td>0</td>\n",
       "      <td>0</td>\n",
       "      <td>1</td>\n",
       "    </tr>\n",
       "  </tbody>\n",
       "</table>\n",
       "<p>5 rows × 35 columns</p>\n",
       "</div>"
      ],
      "text/plain": [
       "   id  X_Minimum  X_Maximum  Y_Minimum  Y_Maximum  Pixels_Areas  X_Perimeter  \\\n",
       "0   0        584        590     909972     909977            16            8   \n",
       "1   1        808        816     728350     728372           433           20   \n",
       "2   2         39        192    2212076    2212144         11388          705   \n",
       "3   3        781        789    3353146    3353173           210           16   \n",
       "4   4       1540       1560     618457     618502           521           72   \n",
       "\n",
       "   Y_Perimeter  Sum_of_Luminosity  Minimum_of_Luminosity  ...  \\\n",
       "0            5               2274                    113  ...   \n",
       "1           54              44478                     70  ...   \n",
       "2          420            1311391                     29  ...   \n",
       "3           29               3202                    114  ...   \n",
       "4           67              48231                     82  ...   \n",
       "\n",
       "   Orientation_Index  Luminosity_Index  SigmoidOfAreas  Pastry  Z_Scratch  \\\n",
       "0            -0.5000           -0.0104          0.1417       0          0   \n",
       "1             0.7419           -0.2997          0.9491       0          0   \n",
       "2            -0.0105           -0.0944          1.0000       0          0   \n",
       "3             0.6667           -0.0402          0.4025       0          0   \n",
       "4             0.9158           -0.2455          0.9998       0          0   \n",
       "\n",
       "   K_Scatch  Stains  Dirtiness  Bumps  Other_Faults  \n",
       "0         0       1          0      0             0  \n",
       "1         0       0          0      0             1  \n",
       "2         1       0          0      0             0  \n",
       "3         1       0          0      0             0  \n",
       "4         0       0          0      0             1  \n",
       "\n",
       "[5 rows x 35 columns]"
      ]
     },
     "execution_count": 2,
     "metadata": {},
     "output_type": "execute_result"
    }
   ],
   "source": [
    "import pandas as pd\n",
    "\n",
    "CSV_FILENAME = \"steel_plate.csv\" \n",
    "CSV_FOLDER_NAME = \"Datasets\"\n",
    "CSV_FILEPATH = os.path.join(CSV_FOLDER_NAME, CSV_FILENAME)\n",
    "\n",
    "try:\n",
    "    raw_data = pd.read_csv(CSV_FILEPATH)\n",
    "except Exception as e:\n",
    "    print(e)\n",
    "\n",
    "raw_data.head()"
   ]
  },
  {
   "cell_type": "markdown",
   "metadata": {},
   "source": [
    "### Structure Data"
   ]
  },
  {
   "cell_type": "code",
   "execution_count": 18,
   "metadata": {},
   "outputs": [],
   "source": [
    "from sklearn.preprocessing import StandardScaler, LabelEncoder\n",
    "\n",
    "# Fjern ID-kolonnen\n",
    "raw_data_drop_id = raw_data.drop(columns=[\"id\"])\n",
    "\n",
    "# Slå sammen Pastry og Dirtiness til Other_Faults\n",
    "raw_data_drop_id[\"Other_Faults\"] = raw_data_drop_id[\"Pastry\"] + raw_data_drop_id[\"Dirtiness\"]\n",
    "\n",
    "# Fjern de originale Pastry og Dirtiness kolonnene\n",
    "raw_data_drop_id.drop(columns=[\"Pastry\", \"Dirtiness\"], inplace=True)\n",
    "\n",
    "# Definer features og target-kolonner\n",
    "targets = [\"Z_Scratch\", \"K_Scatch\", \"Stains\", \"Other_Faults\", \"Bumps\"]\n",
    "features = [col for col in raw_data_drop_id.columns if col not in targets]\n",
    "\n",
    "# Velg hvilke features som ikke skal skaleres\n",
    "exclude_scaling = [\"TypeOfSteel_A300\", \"TypeOfSteel_A400\"]\n",
    "columns_to_scale = [col for col in features if col not in exclude_scaling]\n",
    "\n",
    "# Skalering av features\n",
    "scaler = StandardScaler()\n",
    "scaled_data = raw_data_drop_id.copy()\n",
    "scaled_data[columns_to_scale] = scaler.fit_transform(scaled_data[columns_to_scale])\n",
    "\n",
    "# Konverter y fra én-hot-koding til en enkelt numerisk label\n",
    "scaled_data[\"Defect_Type\"] = scaled_data[targets].idxmax(axis=1)  # Henter kolonnen med verdi 1\n",
    "scaled_data.drop(columns=targets, inplace=True)  # Fjerner én-hot-kodede kolonner\n",
    "\n",
    "# Konverter labels til numerisk format\n",
    "label_encoder = LabelEncoder()\n",
    "scaled_data[\"Defect_Type\"] = label_encoder.fit_transform(scaled_data[\"Defect_Type\"])\n",
    "\n",
    "# Splitt i features (X) og target (y)\n",
    "X = scaled_data[features]\n",
    "y = scaled_data[\"Defect_Type\"]\n"
   ]
  },
  {
   "cell_type": "markdown",
   "metadata": {},
   "source": [
    "### Split into train and test"
   ]
  },
  {
   "cell_type": "code",
   "execution_count": 19,
   "metadata": {},
   "outputs": [
    {
     "name": "stdout",
     "output_type": "stream",
     "text": [
      "(15375, 27) (3844, 27) (15375,) (3844,)\n",
      "Defect_Type\n",
      "4    8508\n",
      "0    4761\n",
      "1    3432\n",
      "2    1950\n",
      "3     568\n",
      "Name: count, dtype: int64\n"
     ]
    }
   ],
   "source": [
    "from sklearn.model_selection import train_test_split\n",
    "\n",
    "# Splitt i train/test-sett\n",
    "X_train, X_test, y_train, y_test = train_test_split(X, y, test_size=0.2, random_state=42, stratify=y)\n",
    "\n",
    "# Sjekk at alt er riktig\n",
    "print(X_train.shape, X_test.shape, y_train.shape, y_test.shape)\n",
    "print(y.value_counts())  # Ser på fordelingen av defekttyper"
   ]
  },
  {
   "cell_type": "markdown",
   "metadata": {},
   "source": [
    "### One vs All - Training Modell"
   ]
  },
  {
   "cell_type": "markdown",
   "metadata": {},
   "source": [
    "#### Linear"
   ]
  },
  {
   "cell_type": "code",
   "execution_count": 20,
   "metadata": {},
   "outputs": [
    {
     "name": "stdout",
     "output_type": "stream",
     "text": [
      "🔹 SVM One-vs-All Accuracy: 0.5965\n",
      "              precision    recall  f1-score   support\n",
      "\n",
      "       Bumps       0.00      0.00      0.00       952\n",
      "    K_Scatch       0.89      0.87      0.88       686\n",
      "Other_Faults       0.00      0.00      0.00       390\n",
      "      Stains       0.76      0.78      0.77       114\n",
      "   Z_Scratch       0.53      0.95      0.68      1702\n",
      "\n",
      "    accuracy                           0.60      3844\n",
      "   macro avg       0.44      0.52      0.47      3844\n",
      "weighted avg       0.41      0.60      0.48      3844\n",
      "\n"
     ]
    },
    {
     "name": "stderr",
     "output_type": "stream",
     "text": [
      "c:\\Users\\Bruker\\anaconda3\\Lib\\site-packages\\sklearn\\metrics\\_classification.py:1531: UndefinedMetricWarning: Precision is ill-defined and being set to 0.0 in labels with no predicted samples. Use `zero_division` parameter to control this behavior.\n",
      "  _warn_prf(average, modifier, f\"{metric.capitalize()} is\", len(result))\n",
      "c:\\Users\\Bruker\\anaconda3\\Lib\\site-packages\\sklearn\\metrics\\_classification.py:1531: UndefinedMetricWarning: Precision is ill-defined and being set to 0.0 in labels with no predicted samples. Use `zero_division` parameter to control this behavior.\n",
      "  _warn_prf(average, modifier, f\"{metric.capitalize()} is\", len(result))\n",
      "c:\\Users\\Bruker\\anaconda3\\Lib\\site-packages\\sklearn\\metrics\\_classification.py:1531: UndefinedMetricWarning: Precision is ill-defined and being set to 0.0 in labels with no predicted samples. Use `zero_division` parameter to control this behavior.\n",
      "  _warn_prf(average, modifier, f\"{metric.capitalize()} is\", len(result))\n"
     ]
    }
   ],
   "source": [
    "from sklearn.svm import SVC\n",
    "from sklearn.metrics import accuracy_score, classification_report\n",
    "\n",
    "# Trene SVM med One-vs-All (default i SVC)\n",
    "svm_model = SVC(kernel=\"linear\", decision_function_shape=\"ovr\", random_state=42)\n",
    "\n",
    "# Tren modellen\n",
    "svm_model.fit(X_train, y_train)\n",
    "\n",
    "# Prediksjon\n",
    "y_pred = svm_model.predict(X_test)\n",
    "\n",
    "# Evaluer modellen\n",
    "accuracy = accuracy_score(y_test, y_pred)\n",
    "report = classification_report(y_test, y_pred, target_names=label_encoder.classes_)\n",
    "\n",
    "print(f\"🔹 SVM One-vs-All Accuracy: {accuracy:.4f}\")\n",
    "print(report)"
   ]
  },
  {
   "cell_type": "markdown",
   "metadata": {},
   "source": [
    "#### Polynominal - 3rd degree"
   ]
  },
  {
   "cell_type": "code",
   "execution_count": 21,
   "metadata": {},
   "outputs": [
    {
     "name": "stdout",
     "output_type": "stream",
     "text": [
      "🔹 SVM One-vs-All Accuracy: 0.6220\n",
      "              precision    recall  f1-score   support\n",
      "\n",
      "       Bumps       0.59      0.25      0.35       952\n",
      "    K_Scatch       0.89      0.87      0.88       686\n",
      "Other_Faults       0.56      0.06      0.10       390\n",
      "      Stains       0.75      0.75      0.75       114\n",
      "   Z_Scratch       0.55      0.85      0.67      1702\n",
      "\n",
      "    accuracy                           0.62      3844\n",
      "   macro avg       0.67      0.56      0.55      3844\n",
      "weighted avg       0.63      0.62      0.57      3844\n",
      "\n"
     ]
    }
   ],
   "source": [
    "# Trene SVM med One-vs-All (default i SVC)\n",
    "svm_model = SVC(kernel=\"poly\", degree=3, decision_function_shape=\"ovr\", random_state=42)\n",
    "\n",
    "# Tren modellen\n",
    "svm_model.fit(X_train, y_train)\n",
    "\n",
    "# Prediksjon\n",
    "y_pred = svm_model.predict(X_test)\n",
    "\n",
    "# Evaluer modellen\n",
    "accuracy = accuracy_score(y_test, y_pred)\n",
    "report = classification_report(y_test, y_pred, target_names=label_encoder.classes_)\n",
    "\n",
    "print(f\"🔹 SVM One-vs-All Accuracy: {accuracy:.4f}\")\n",
    "print(report)"
   ]
  },
  {
   "cell_type": "markdown",
   "metadata": {},
   "source": [
    "#### Gaussian RBF"
   ]
  },
  {
   "cell_type": "code",
   "execution_count": 22,
   "metadata": {},
   "outputs": [
    {
     "name": "stdout",
     "output_type": "stream",
     "text": [
      "🔹 SVM (RBF) Accuracy: 0.6241\n",
      "              precision    recall  f1-score   support\n",
      "\n",
      "       Bumps       0.57      0.30      0.39       952\n",
      "    K_Scatch       0.88      0.88      0.88       686\n",
      "Other_Faults       0.61      0.05      0.09       390\n",
      "      Stains       0.76      0.76      0.76       114\n",
      "   Z_Scratch       0.56      0.83      0.67      1702\n",
      "\n",
      "    accuracy                           0.62      3844\n",
      "   macro avg       0.68      0.56      0.56      3844\n",
      "weighted avg       0.63      0.62      0.58      3844\n",
      "\n"
     ]
    }
   ],
   "source": [
    "svm_rbf = SVC(kernel=\"rbf\", C=1.0, gamma=\"scale\", decision_function_shape=\"ovr\", random_state=42)\n",
    "svm_rbf.fit(X_train, y_train)\n",
    "\n",
    "y_pred_rbf = svm_rbf.predict(X_test)\n",
    "\n",
    "accuracy_rbf = accuracy_score(y_test, y_pred_rbf)\n",
    "report_rbf = classification_report(y_test, y_pred_rbf, target_names=label_encoder.classes_)\n",
    "\n",
    "print(f\"🔹 SVM (RBF) Accuracy: {accuracy_rbf:.4f}\")\n",
    "print(report_rbf)"
   ]
  },
  {
   "cell_type": "markdown",
   "metadata": {},
   "source": [
    "### Tuning - Gaussian RBF"
   ]
  },
  {
   "cell_type": "code",
   "execution_count": 23,
   "metadata": {},
   "outputs": [
    {
     "name": "stdout",
     "output_type": "stream",
     "text": [
      "Fitting 3 folds for each of 12 candidates, totalling 36 fits\n",
      "Beste hyperparametere: {'C': 1, 'gamma': 0.1}\n",
      "🔹 Tuned SVM (RBF) Accuracy: 0.6316\n"
     ]
    }
   ],
   "source": [
    "from sklearn.model_selection import GridSearchCV\n",
    "\n",
    "# Definerer hyperparameterrutenettet (grid) for C og gamma\n",
    "param_grid = {\n",
    "    'C': [0.1, 1, 10, 100],  # færre verdier\n",
    "    'gamma': [0.001, 0.01, 0.1]  # færre verdier\n",
    "}\n",
    "\n",
    "\n",
    "# SVM-modell med RBF-kjerne\n",
    "svm_rbf = SVC(kernel=\"rbf\", decision_function_shape=\"ovr\", random_state=42)\n",
    "\n",
    "# GridSearchCV for å finne de beste parameterne\n",
    "grid_search = GridSearchCV(svm_rbf, param_grid, cv=3, scoring=\"accuracy\", verbose=2, n_jobs=-1)\n",
    "\n",
    "# Kjør GridSearch på treningsdataene\n",
    "grid_search.fit(X_train, y_train)\n",
    "\n",
    "# Beste parametere og beste modell\n",
    "print(\"Beste hyperparametere:\", grid_search.best_params_)\n",
    "best_model = grid_search.best_estimator_\n",
    "\n",
    "# Prediksjoner med den beste modellen\n",
    "y_pred_best = best_model.predict(X_test)\n",
    "\n",
    "# Beregn og vis ytelsen\n",
    "accuracy_best = accuracy_score(y_test, y_pred_best)\n",
    "print(f\"🔹 Tuned SVM (RBF) Accuracy: {accuracy_best:.4f}\")\n"
   ]
  },
  {
   "cell_type": "code",
   "execution_count": 24,
   "metadata": {},
   "outputs": [
    {
     "name": "stdout",
     "output_type": "stream",
     "text": [
      "🔹 SVM (RBF) Accuracy: 0.6316\n",
      "              precision    recall  f1-score   support\n",
      "\n",
      "       Bumps       0.57      0.39      0.46       952\n",
      "    K_Scatch       0.89      0.87      0.88       686\n",
      "Other_Faults       0.55      0.11      0.18       390\n",
      "      Stains       0.74      0.75      0.75       114\n",
      "   Z_Scratch       0.57      0.78      0.66      1702\n",
      "\n",
      "    accuracy                           0.63      3844\n",
      "   macro avg       0.66      0.58      0.59      3844\n",
      "weighted avg       0.63      0.63      0.60      3844\n",
      "\n"
     ]
    }
   ],
   "source": [
    "svm_rbf = SVC(kernel=\"rbf\", C=1, gamma=0.1, decision_function_shape=\"ovr\", random_state=42)\n",
    "svm_rbf.fit(X_train, y_train)\n",
    "\n",
    "y_pred_rbf = svm_rbf.predict(X_test)\n",
    "\n",
    "accuracy_rbf = accuracy_score(y_test, y_pred_rbf)\n",
    "report_rbf = classification_report(y_test, y_pred_rbf, target_names=label_encoder.classes_)\n",
    "\n",
    "print(f\"🔹 SVM (RBF) Accuracy: {accuracy_rbf:.4f}\")\n",
    "print(report_rbf)"
   ]
  }
 ],
 "metadata": {
  "kernelspec": {
   "display_name": "base",
   "language": "python",
   "name": "python3"
  },
  "language_info": {
   "codemirror_mode": {
    "name": "ipython",
    "version": 3
   },
   "file_extension": ".py",
   "mimetype": "text/x-python",
   "name": "python",
   "nbconvert_exporter": "python",
   "pygments_lexer": "ipython3",
   "version": "3.12.7"
  }
 },
 "nbformat": 4,
 "nbformat_minor": 2
}
